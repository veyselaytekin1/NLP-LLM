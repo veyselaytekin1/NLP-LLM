{
 "cells": [
  {
   "cell_type": "code",
   "execution_count": 17,
   "metadata": {},
   "outputs": [
    {
     "name": "stdout",
     "output_type": "stream",
     "text": [
      "Requirement already satisfied: gradio in /Users/veyselaytekin/opt/anaconda3/lib/python3.9/site-packages (3.17.0)\n",
      "Collecting gradio\n",
      "  Downloading gradio-4.12.0-py3-none-any.whl.metadata (15 kB)\n",
      "Requirement already satisfied: aiofiles<24.0,>=22.0 in /Users/veyselaytekin/opt/anaconda3/lib/python3.9/site-packages (from gradio) (22.1.0)\n",
      "Requirement already satisfied: altair<6.0,>=4.2.0 in /Users/veyselaytekin/opt/anaconda3/lib/python3.9/site-packages (from gradio) (4.2.0)\n",
      "Requirement already satisfied: fastapi in /Users/veyselaytekin/opt/anaconda3/lib/python3.9/site-packages (from gradio) (0.89.1)\n",
      "Requirement already satisfied: ffmpy in /Users/veyselaytekin/opt/anaconda3/lib/python3.9/site-packages (from gradio) (0.3.0)\n",
      "Collecting gradio-client==0.8.0 (from gradio)\n",
      "  Downloading gradio_client-0.8.0-py3-none-any.whl.metadata (7.1 kB)\n",
      "Requirement already satisfied: httpx in /Users/veyselaytekin/opt/anaconda3/lib/python3.9/site-packages (from gradio) (0.23.3)\n",
      "Collecting huggingface-hub>=0.19.3 (from gradio)\n",
      "  Downloading huggingface_hub-0.20.1-py3-none-any.whl.metadata (12 kB)\n",
      "Requirement already satisfied: importlib-resources<7.0,>=1.3 in /Users/veyselaytekin/opt/anaconda3/lib/python3.9/site-packages (from gradio) (5.2.0)\n",
      "Requirement already satisfied: jinja2<4.0 in /Users/veyselaytekin/opt/anaconda3/lib/python3.9/site-packages (from gradio) (3.0.0)\n",
      "Requirement already satisfied: markupsafe~=2.0 in /Users/veyselaytekin/opt/anaconda3/lib/python3.9/site-packages (from gradio) (2.1.1)\n",
      "Requirement already satisfied: matplotlib~=3.0 in /Users/veyselaytekin/opt/anaconda3/lib/python3.9/site-packages (from gradio) (3.7.2)\n",
      "Requirement already satisfied: numpy~=1.0 in /Users/veyselaytekin/opt/anaconda3/lib/python3.9/site-packages (from gradio) (1.22.4)\n",
      "Requirement already satisfied: orjson~=3.0 in /Users/veyselaytekin/opt/anaconda3/lib/python3.9/site-packages (from gradio) (3.8.5)\n",
      "Requirement already satisfied: packaging in /Users/veyselaytekin/opt/anaconda3/lib/python3.9/site-packages (from gradio) (23.2)\n",
      "Requirement already satisfied: pandas<3.0,>=1.0 in /Users/veyselaytekin/opt/anaconda3/lib/python3.9/site-packages (from gradio) (1.5.3)\n",
      "Requirement already satisfied: pillow<11.0,>=8.0 in /Users/veyselaytekin/opt/anaconda3/lib/python3.9/site-packages (from gradio) (10.0.1)\n",
      "Collecting pydantic>=2.0 (from gradio)\n",
      "  Downloading pydantic-2.5.3-py3-none-any.whl.metadata (65 kB)\n",
      "\u001b[2K     \u001b[90m━━━━━━━━━━━━━━━━━━━━━━━━━━━━━━━━━━━━━━━━\u001b[0m \u001b[32m65.6/65.6 kB\u001b[0m \u001b[31m1.5 MB/s\u001b[0m eta \u001b[36m0:00:00\u001b[0ma \u001b[36m0:00:01\u001b[0m\n",
      "\u001b[?25hRequirement already satisfied: pydub in /Users/veyselaytekin/opt/anaconda3/lib/python3.9/site-packages (from gradio) (0.25.1)\n",
      "Requirement already satisfied: python-multipart in /Users/veyselaytekin/opt/anaconda3/lib/python3.9/site-packages (from gradio) (0.0.5)\n",
      "Requirement already satisfied: pyyaml<7.0,>=5.0 in /Users/veyselaytekin/opt/anaconda3/lib/python3.9/site-packages (from gradio) (6.0.1)\n",
      "Collecting semantic-version~=2.0 (from gradio)\n",
      "  Downloading semantic_version-2.10.0-py2.py3-none-any.whl (15 kB)\n",
      "Collecting tomlkit==0.12.0 (from gradio)\n",
      "  Downloading tomlkit-0.12.0-py3-none-any.whl.metadata (2.7 kB)\n",
      "Collecting typer<1.0,>=0.9 (from typer[all]<1.0,>=0.9->gradio)\n",
      "  Downloading typer-0.9.0-py3-none-any.whl (45 kB)\n",
      "\u001b[2K     \u001b[90m━━━━━━━━━━━━━━━━━━━━━━━━━━━━━━━━━━━━━━━━\u001b[0m \u001b[32m45.9/45.9 kB\u001b[0m \u001b[31m2.6 MB/s\u001b[0m eta \u001b[36m0:00:00\u001b[0m\n",
      "\u001b[?25hRequirement already satisfied: typing-extensions~=4.0 in /Users/veyselaytekin/opt/anaconda3/lib/python3.9/site-packages (from gradio) (4.7.1)\n",
      "Requirement already satisfied: uvicorn>=0.14.0 in /Users/veyselaytekin/opt/anaconda3/lib/python3.9/site-packages (from gradio) (0.20.0)\n",
      "Requirement already satisfied: fsspec in /Users/veyselaytekin/opt/anaconda3/lib/python3.9/site-packages (from gradio-client==0.8.0->gradio) (2023.9.2)\n",
      "Requirement already satisfied: websockets<12.0,>=10.0 in /Users/veyselaytekin/opt/anaconda3/lib/python3.9/site-packages (from gradio-client==0.8.0->gradio) (10.4)\n",
      "Requirement already satisfied: entrypoints in /Users/veyselaytekin/opt/anaconda3/lib/python3.9/site-packages (from altair<6.0,>=4.2.0->gradio) (0.4)\n",
      "Requirement already satisfied: jsonschema>=3.0 in /Users/veyselaytekin/opt/anaconda3/lib/python3.9/site-packages (from altair<6.0,>=4.2.0->gradio) (4.19.2)\n",
      "Requirement already satisfied: toolz in /Users/veyselaytekin/opt/anaconda3/lib/python3.9/site-packages (from altair<6.0,>=4.2.0->gradio) (0.12.0)\n",
      "Requirement already satisfied: filelock in /Users/veyselaytekin/opt/anaconda3/lib/python3.9/site-packages (from huggingface-hub>=0.19.3->gradio) (3.9.0)\n",
      "Requirement already satisfied: requests in /Users/veyselaytekin/opt/anaconda3/lib/python3.9/site-packages (from huggingface-hub>=0.19.3->gradio) (2.31.0)\n",
      "Requirement already satisfied: tqdm>=4.42.1 in /Users/veyselaytekin/opt/anaconda3/lib/python3.9/site-packages (from huggingface-hub>=0.19.3->gradio) (4.65.0)\n",
      "Requirement already satisfied: zipp>=3.1.0 in /Users/veyselaytekin/opt/anaconda3/lib/python3.9/site-packages (from importlib-resources<7.0,>=1.3->gradio) (3.11.0)\n",
      "Requirement already satisfied: contourpy>=1.0.1 in /Users/veyselaytekin/opt/anaconda3/lib/python3.9/site-packages (from matplotlib~=3.0->gradio) (1.0.5)\n",
      "Requirement already satisfied: cycler>=0.10 in /Users/veyselaytekin/opt/anaconda3/lib/python3.9/site-packages (from matplotlib~=3.0->gradio) (0.11.0)\n",
      "Requirement already satisfied: fonttools>=4.22.0 in /Users/veyselaytekin/opt/anaconda3/lib/python3.9/site-packages (from matplotlib~=3.0->gradio) (4.25.0)\n",
      "Requirement already satisfied: kiwisolver>=1.0.1 in /Users/veyselaytekin/opt/anaconda3/lib/python3.9/site-packages (from matplotlib~=3.0->gradio) (1.4.4)\n",
      "Requirement already satisfied: pyparsing<3.1,>=2.3.1 in /Users/veyselaytekin/opt/anaconda3/lib/python3.9/site-packages (from matplotlib~=3.0->gradio) (3.0.9)\n",
      "Requirement already satisfied: python-dateutil>=2.7 in /Users/veyselaytekin/opt/anaconda3/lib/python3.9/site-packages (from matplotlib~=3.0->gradio) (2.8.2)\n",
      "Requirement already satisfied: pytz>=2020.1 in /Users/veyselaytekin/opt/anaconda3/lib/python3.9/site-packages (from pandas<3.0,>=1.0->gradio) (2023.3.post1)\n",
      "Requirement already satisfied: annotated-types>=0.4.0 in /Users/veyselaytekin/opt/anaconda3/lib/python3.9/site-packages (from pydantic>=2.0->gradio) (0.6.0)\n",
      "Requirement already satisfied: pydantic-core==2.14.6 in /Users/veyselaytekin/opt/anaconda3/lib/python3.9/site-packages (from pydantic>=2.0->gradio) (2.14.6)\n",
      "Requirement already satisfied: click<9.0.0,>=7.1.1 in /Users/veyselaytekin/opt/anaconda3/lib/python3.9/site-packages (from typer<1.0,>=0.9->typer[all]<1.0,>=0.9->gradio) (8.1.7)\n",
      "Requirement already satisfied: colorama<0.5.0,>=0.4.3 in /Users/veyselaytekin/opt/anaconda3/lib/python3.9/site-packages (from typer[all]<1.0,>=0.9->gradio) (0.4.6)\n",
      "Collecting shellingham<2.0.0,>=1.3.0 (from typer[all]<1.0,>=0.9->gradio)\n",
      "  Downloading shellingham-1.5.4-py2.py3-none-any.whl.metadata (3.5 kB)\n",
      "Requirement already satisfied: rich<14.0.0,>=10.11.0 in /Users/veyselaytekin/opt/anaconda3/lib/python3.9/site-packages (from typer[all]<1.0,>=0.9->gradio) (13.3.2)\n",
      "Requirement already satisfied: h11>=0.8 in /Users/veyselaytekin/opt/anaconda3/lib/python3.9/site-packages (from uvicorn>=0.14.0->gradio) (0.14.0)\n",
      "INFO: pip is looking at multiple versions of fastapi to determine which version is compatible with other requirements. This could take a while.\n",
      "Collecting fastapi (from gradio)\n",
      "  Downloading fastapi-0.105.0-py3-none-any.whl.metadata (24 kB)\n",
      "Collecting anyio<4.0.0,>=3.7.1 (from fastapi->gradio)\n",
      "  Downloading anyio-3.7.1-py3-none-any.whl.metadata (4.7 kB)\n",
      "Collecting starlette<0.28.0,>=0.27.0 (from fastapi->gradio)\n",
      "  Downloading starlette-0.27.0-py3-none-any.whl.metadata (5.8 kB)\n",
      "Collecting typing-extensions~=4.0 (from gradio)\n",
      "  Downloading typing_extensions-4.9.0-py3-none-any.whl.metadata (3.0 kB)\n",
      "Requirement already satisfied: certifi in /Users/veyselaytekin/opt/anaconda3/lib/python3.9/site-packages (from httpx->gradio) (2023.11.17)\n",
      "Requirement already satisfied: httpcore<0.17.0,>=0.15.0 in /Users/veyselaytekin/opt/anaconda3/lib/python3.9/site-packages (from httpx->gradio) (0.16.3)\n",
      "Requirement already satisfied: rfc3986<2,>=1.3 in /Users/veyselaytekin/opt/anaconda3/lib/python3.9/site-packages (from rfc3986[idna2008]<2,>=1.3->httpx->gradio) (1.5.0)\n",
      "Requirement already satisfied: sniffio in /Users/veyselaytekin/opt/anaconda3/lib/python3.9/site-packages (from httpx->gradio) (1.2.0)\n",
      "Requirement already satisfied: six>=1.4.0 in /Users/veyselaytekin/opt/anaconda3/lib/python3.9/site-packages (from python-multipart->gradio) (1.16.0)\n",
      "Requirement already satisfied: idna>=2.8 in /Users/veyselaytekin/opt/anaconda3/lib/python3.9/site-packages (from anyio<4.0.0,>=3.7.1->fastapi->gradio) (3.4)\n",
      "Requirement already satisfied: exceptiongroup in /Users/veyselaytekin/opt/anaconda3/lib/python3.9/site-packages (from anyio<4.0.0,>=3.7.1->fastapi->gradio) (1.0.4)\n",
      "Requirement already satisfied: attrs>=22.2.0 in /Users/veyselaytekin/opt/anaconda3/lib/python3.9/site-packages (from jsonschema>=3.0->altair<6.0,>=4.2.0->gradio) (23.1.0)\n",
      "Requirement already satisfied: jsonschema-specifications>=2023.03.6 in /Users/veyselaytekin/opt/anaconda3/lib/python3.9/site-packages (from jsonschema>=3.0->altair<6.0,>=4.2.0->gradio) (2023.7.1)\n",
      "Requirement already satisfied: referencing>=0.28.4 in /Users/veyselaytekin/opt/anaconda3/lib/python3.9/site-packages (from jsonschema>=3.0->altair<6.0,>=4.2.0->gradio) (0.30.2)\n",
      "Requirement already satisfied: rpds-py>=0.7.1 in /Users/veyselaytekin/opt/anaconda3/lib/python3.9/site-packages (from jsonschema>=3.0->altair<6.0,>=4.2.0->gradio) (0.10.6)\n",
      "Requirement already satisfied: markdown-it-py<3.0.0,>=2.2.0 in /Users/veyselaytekin/opt/anaconda3/lib/python3.9/site-packages (from rich<14.0.0,>=10.11.0->typer[all]<1.0,>=0.9->gradio) (2.2.0)\n",
      "Requirement already satisfied: pygments<3.0.0,>=2.13.0 in /Users/veyselaytekin/opt/anaconda3/lib/python3.9/site-packages (from rich<14.0.0,>=10.11.0->typer[all]<1.0,>=0.9->gradio) (2.14.0)\n",
      "Requirement already satisfied: charset-normalizer<4,>=2 in /Users/veyselaytekin/opt/anaconda3/lib/python3.9/site-packages (from requests->huggingface-hub>=0.19.3->gradio) (2.0.4)\n",
      "Requirement already satisfied: urllib3<3,>=1.21.1 in /Users/veyselaytekin/opt/anaconda3/lib/python3.9/site-packages (from requests->huggingface-hub>=0.19.3->gradio) (1.26.18)\n",
      "Requirement already satisfied: mdurl~=0.1 in /Users/veyselaytekin/opt/anaconda3/lib/python3.9/site-packages (from markdown-it-py<3.0.0,>=2.2.0->rich<14.0.0,>=10.11.0->typer[all]<1.0,>=0.9->gradio) (0.1.0)\n",
      "Downloading gradio-4.12.0-py3-none-any.whl (16.6 MB)\n",
      "\u001b[2K   \u001b[90m━━━━━━━━━━━━━━━━━━━━━━━━━━━━━━━━━━━━━━━━\u001b[0m \u001b[32m16.6/16.6 MB\u001b[0m \u001b[31m3.0 MB/s\u001b[0m eta \u001b[36m0:00:00\u001b[0m00:01\u001b[0m00:01\u001b[0m\n",
      "\u001b[?25hDownloading gradio_client-0.8.0-py3-none-any.whl (305 kB)\n",
      "\u001b[2K   \u001b[90m━━━━━━━━━━━━━━━━━━━━━━━━━━━━━━━━━━━━━━━━\u001b[0m \u001b[32m305.1/305.1 kB\u001b[0m \u001b[31m3.4 MB/s\u001b[0m eta \u001b[36m0:00:00\u001b[0ma \u001b[36m0:00:01\u001b[0m\n",
      "\u001b[?25hDownloading tomlkit-0.12.0-py3-none-any.whl (37 kB)\n",
      "Downloading huggingface_hub-0.20.1-py3-none-any.whl (330 kB)\n",
      "\u001b[2K   \u001b[90m━━━━━━━━━━━━━━━━━━━━━━━━━━━━━━━━━━━━━━━━\u001b[0m \u001b[32m330.1/330.1 kB\u001b[0m \u001b[31m3.6 MB/s\u001b[0m eta \u001b[36m0:00:00\u001b[0ma \u001b[36m0:00:01\u001b[0m\n",
      "\u001b[?25hDownloading pydantic-2.5.3-py3-none-any.whl (381 kB)\n",
      "\u001b[2K   \u001b[90m━━━━━━━━━━━━━━━━━━━━━━━━━━━━━━━━━━━━━━━━\u001b[0m \u001b[32m381.9/381.9 kB\u001b[0m \u001b[31m2.6 MB/s\u001b[0m eta \u001b[36m0:00:00\u001b[0ma \u001b[36m0:00:01\u001b[0m\n",
      "\u001b[?25hDownloading fastapi-0.105.0-py3-none-any.whl (93 kB)\n",
      "\u001b[2K   \u001b[90m━━━━━━━━━━━━━━━━━━━━━━━━━━━━━━━━━━━━━━━━\u001b[0m \u001b[32m93.1/93.1 kB\u001b[0m \u001b[31m2.4 MB/s\u001b[0m eta \u001b[36m0:00:00\u001b[0ma \u001b[36m0:00:01\u001b[0m\n",
      "\u001b[?25hDownloading typing_extensions-4.9.0-py3-none-any.whl (32 kB)\n",
      "Downloading anyio-3.7.1-py3-none-any.whl (80 kB)\n",
      "\u001b[2K   \u001b[90m━━━━━━━━━━━━━━━━━━━━━━━━━━━━━━━━━━━━━━━━\u001b[0m \u001b[32m80.9/80.9 kB\u001b[0m \u001b[31m2.5 MB/s\u001b[0m eta \u001b[36m0:00:00\u001b[0m\n",
      "\u001b[?25hDownloading shellingham-1.5.4-py2.py3-none-any.whl (9.8 kB)\n",
      "Downloading starlette-0.27.0-py3-none-any.whl (66 kB)\n",
      "\u001b[2K   \u001b[90m━━━━━━━━━━━━━━━━━━━━━━━━━━━━━━━━━━━━━━━━\u001b[0m \u001b[32m67.0/67.0 kB\u001b[0m \u001b[31m4.1 MB/s\u001b[0m eta \u001b[36m0:00:00\u001b[0m\n",
      "\u001b[?25hInstalling collected packages: typing-extensions, tomlkit, shellingham, semantic-version, anyio, typer, starlette, huggingface-hub, pydantic, gradio-client, fastapi, gradio\n",
      "  Attempting uninstall: typing-extensions\n",
      "    Found existing installation: typing_extensions 4.7.1\n",
      "    Uninstalling typing_extensions-4.7.1:\n",
      "      Successfully uninstalled typing_extensions-4.7.1\n",
      "  Attempting uninstall: tomlkit\n",
      "    Found existing installation: tomlkit 0.11.1\n",
      "    Uninstalling tomlkit-0.11.1:\n",
      "      Successfully uninstalled tomlkit-0.11.1\n",
      "  Attempting uninstall: anyio\n",
      "    Found existing installation: anyio 3.5.0\n",
      "    Uninstalling anyio-3.5.0:\n",
      "      Successfully uninstalled anyio-3.5.0\n",
      "  Attempting uninstall: starlette\n",
      "    Found existing installation: starlette 0.22.0\n",
      "    Uninstalling starlette-0.22.0:\n",
      "      Successfully uninstalled starlette-0.22.0\n",
      "  Attempting uninstall: huggingface-hub\n",
      "    Found existing installation: huggingface-hub 0.11.1\n",
      "    Uninstalling huggingface-hub-0.11.1:\n",
      "      Successfully uninstalled huggingface-hub-0.11.1\n",
      "  Attempting uninstall: pydantic\n",
      "    Found existing installation: pydantic 1.10.4\n",
      "    Uninstalling pydantic-1.10.4:\n",
      "      Successfully uninstalled pydantic-1.10.4\n",
      "  Attempting uninstall: fastapi\n",
      "    Found existing installation: fastapi 0.89.1\n",
      "    Uninstalling fastapi-0.89.1:\n",
      "      Successfully uninstalled fastapi-0.89.1\n",
      "  Attempting uninstall: gradio\n",
      "    Found existing installation: gradio 3.17.0\n",
      "    Uninstalling gradio-3.17.0:\n",
      "      Successfully uninstalled gradio-3.17.0\n",
      "\u001b[31mERROR: pip's dependency resolver does not currently take into account all the packages that are installed. This behaviour is the source of the following dependency conflicts.\n",
      "jupyterlab-server 2.22.0 requires jinja2>=3.0.3, but you have jinja2 3.0.0 which is incompatible.\n",
      "python-lsp-black 1.2.1 requires black>=22.3.0, but you have black 0.0 which is incompatible.\u001b[0m\u001b[31m\n",
      "\u001b[0mSuccessfully installed anyio-3.7.1 fastapi-0.105.0 gradio-4.12.0 gradio-client-0.8.0 huggingface-hub-0.20.1 pydantic-2.5.3 semantic-version-2.10.0 shellingham-1.5.4 starlette-0.27.0 tomlkit-0.12.0 typer-0.9.0 typing-extensions-4.9.0\n"
     ]
    }
   ],
   "source": [
    "! pip install --upgrade gradio"
   ]
  },
  {
   "cell_type": "code",
   "execution_count": 7,
   "metadata": {},
   "outputs": [],
   "source": [
    "from transformers import pipeline, Conversation\n",
    "import gradio as gr"
   ]
  },
  {
   "cell_type": "code",
   "execution_count": 8,
   "metadata": {},
   "outputs": [
    {
     "data": {
      "text/plain": [
       "[{'label': 'POSITIVE', 'score': 0.9998763799667358}]"
      ]
     },
     "execution_count": 8,
     "metadata": {},
     "output_type": "execute_result"
    }
   ],
   "source": [
    "pipeline(task = 'sentiment-analysis', model = 'distilbert-base-uncased-finetuned-sst-2-english')('Love- this!')"
   ]
  },
  {
   "cell_type": "code",
   "execution_count": 9,
   "metadata": {},
   "outputs": [],
   "source": [
    "classifier = pipeline(task = 'sentiment-analysis', model = 'distilbert-base-uncased-finetuned-sst-2-english')"
   ]
  },
  {
   "cell_type": "code",
   "execution_count": 10,
   "metadata": {},
   "outputs": [
    {
     "data": {
      "text/plain": [
       "[{'label': 'NEGATIVE', 'score': 0.9997244477272034}]"
      ]
     },
     "execution_count": 10,
     "metadata": {},
     "output_type": "execute_result"
    }
   ],
   "source": [
    "classifier('Hate this')"
   ]
  },
  {
   "cell_type": "code",
   "execution_count": 11,
   "metadata": {},
   "outputs": [
    {
     "data": {
      "text/plain": [
       "[{'label': 'POSITIVE', 'score': 0.9998785257339478},\n",
       " {'label': 'POSITIVE', 'score': 0.7494941353797913},\n",
       " {'label': 'POSITIVE', 'score': 0.9983037710189819}]"
      ]
     },
     "execution_count": 11,
     "metadata": {},
     "output_type": "execute_result"
    }
   ],
   "source": [
    "test_list = [\"This is great\", \\\n",
    "    \"Thanks fr nothing\", \\\n",
    "    \"You've got to on your face\"]\n",
    "\n",
    "classifier(test_list)"
   ]
  },
  {
   "cell_type": "markdown",
   "metadata": {},
   "source": [
    "# Conversational"
   ]
  },
  {
   "cell_type": "code",
   "execution_count": 12,
   "metadata": {},
   "outputs": [],
   "source": [
    "chatbot = pipeline(model=\"facebook/blenderbot-400M-distill\")"
   ]
  },
  {
   "cell_type": "code",
   "execution_count": 13,
   "metadata": {},
   "outputs": [],
   "source": [
    "conversation = Conversation(\"Hi I'm Veysel, how are you?\")\n",
    "conversation = chatbot(conversation)"
   ]
  },
  {
   "cell_type": "code",
   "execution_count": 14,
   "metadata": {},
   "outputs": [
    {
     "data": {
      "text/plain": [
       "Conversation id: 63c645d3-24b1-4ca1-ad38-585339e5cfb8 \n",
       "user >> Hi I'm Veysel, how are you? \n",
       "bot >>  I'm doing well, thank you. I just got back from a trip to the beach. "
      ]
     },
     "execution_count": 14,
     "metadata": {},
     "output_type": "execute_result"
    }
   ],
   "source": [
    "conversation"
   ]
  },
  {
   "cell_type": "code",
   "execution_count": 15,
   "metadata": {},
   "outputs": [
    {
     "data": {
      "text/plain": [
       "Conversation id: 63c645d3-24b1-4ca1-ad38-585339e5cfb8 \n",
       "user >> Hi I'm Veysel, how are you? \n",
       "bot >>  I'm doing well, thank you. I just got back from a trip to the beach. \n",
       "user >> Where do you work? \n",
       "bot >>  I work for an insurance company. What do you do for a living? Do you have any hobbies? "
      ]
     },
     "execution_count": 15,
     "metadata": {},
     "output_type": "execute_result"
    }
   ],
   "source": [
    "conversation.add_user_input('Where do you work?')\n",
    "conversation = chatbot(conversation)\n",
    "conversation"
   ]
  },
  {
   "cell_type": "markdown",
   "metadata": {},
   "source": [
    "# Deploy Chatbot UI"
   ]
  },
  {
   "cell_type": "markdown",
   "metadata": {},
   "source": [
    "### Text Sentiment Chatbot"
   ]
  },
  {
   "cell_type": "code",
   "execution_count": 19,
   "metadata": {},
   "outputs": [
    {
     "name": "stdout",
     "output_type": "stream",
     "text": [
      "Running on local URL:  http://127.0.0.1:7863\n",
      "\n",
      "To create a public link, set `share=True` in `launch()`.\n"
     ]
    },
    {
     "data": {
      "text/html": [
       "<div><iframe src=\"http://127.0.0.1:7863/\" width=\"100%\" height=\"500\" allow=\"autoplay; camera; microphone; clipboard-read; clipboard-write;\" frameborder=\"0\" allowfullscreen></iframe></div>"
      ],
      "text/plain": [
       "<IPython.core.display.HTML object>"
      ]
     },
     "metadata": {},
     "output_type": "display_data"
    },
    {
     "data": {
      "text/plain": []
     },
     "execution_count": 19,
     "metadata": {},
     "output_type": "execute_result"
    }
   ],
   "source": [
    "def top3_text_classes(message, history):\n",
    "    return str(classifier(message)[0][:3]).replace('}, {', '\\n').replace('[{', '').replace('}]', '')\n",
    "\n",
    "demo_sentiment = gr.ChatInterface(top3_text_classes, title=\"Text Sentiment Chatbot\", description=\"Enter your text, and the chatbot will classify the sentiment.\")\n",
    "\n",
    "demo_sentiment.launch()"
   ]
  },
  {
   "cell_type": "markdown",
   "metadata": {},
   "source": [
    "# Vanilla Chatbot"
   ]
  },
  {
   "cell_type": "code",
   "execution_count": 21,
   "metadata": {},
   "outputs": [
    {
     "name": "stdout",
     "output_type": "stream",
     "text": [
      "Running on local URL:  http://127.0.0.1:7865\n",
      "\n",
      "To create a public link, set `share=True` in `launch()`.\n"
     ]
    },
    {
     "data": {
      "text/html": [
       "<div><iframe src=\"http://127.0.0.1:7865/\" width=\"100%\" height=\"500\" allow=\"autoplay; camera; microphone; clipboard-read; clipboard-write;\" frameborder=\"0\" allowfullscreen></iframe></div>"
      ],
      "text/plain": [
       "<IPython.core.display.HTML object>"
      ]
     },
     "metadata": {},
     "output_type": "display_data"
    },
    {
     "data": {
      "text/plain": []
     },
     "execution_count": 21,
     "metadata": {},
     "output_type": "execute_result"
    },
    {
     "name": "stderr",
     "output_type": "stream",
     "text": [
      "Conversation input is to long (72), trimming it to (60 - 10)\n"
     ]
    }
   ],
   "source": [
    "message_list = []\n",
    "response_list = []\n",
    "\n",
    "def vanilla_chatbot(message, history):\n",
    "    conversation = Conversation(text=message, past_user_inputs=message_list, generated_responses=response_list)\n",
    "    conversation = chatbot(conversation)\n",
    "\n",
    "    return conversation.generated_responses[-1]\n",
    "\n",
    "demo_chatbot = gr.ChatInterface(vanilla_chatbot, title='Vanilla Chatbot Veysel', description='Enter text to start chatting')\n",
    "demo_chatbot.launch()"
   ]
  },
  {
   "cell_type": "code",
   "execution_count": null,
   "metadata": {},
   "outputs": [],
   "source": []
  }
 ],
 "metadata": {
  "kernelspec": {
   "display_name": "Python 3.9.18 ('base')",
   "language": "python",
   "name": "python3"
  },
  "language_info": {
   "codemirror_mode": {
    "name": "ipython",
    "version": 3
   },
   "file_extension": ".py",
   "mimetype": "text/x-python",
   "name": "python",
   "nbconvert_exporter": "python",
   "pygments_lexer": "ipython3",
   "version": "3.9.18"
  },
  "orig_nbformat": 4,
  "vscode": {
   "interpreter": {
    "hash": "f7c19a79b9aeb8b1cc18eda6778f62d726c8b19540b84d23ad80114035b2e0b4"
   }
  }
 },
 "nbformat": 4,
 "nbformat_minor": 2
}
